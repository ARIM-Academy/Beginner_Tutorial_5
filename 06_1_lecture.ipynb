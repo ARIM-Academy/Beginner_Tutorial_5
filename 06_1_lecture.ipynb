{
  "nbformat": 4,
  "nbformat_minor": 0,
  "metadata": {
    "colab": {
      "provenance": []
    },
    "kernelspec": {
      "name": "python3",
      "display_name": "Python 3"
    },
    "language_info": {
      "name": "python"
    }
  },
  "cells": [
    {
      "cell_type": "markdown",
      "source": [
        "# ARIMデータ構造化の実例紹介\n",
        "今回は、ARIM事業で実際に開発を行っている材料研究データの構造化コードの中から一部をご紹介します。\n",
        "\n",
        "はじめに、本講義で使用するファイルを皆さんの環境にダウンロードするため、次のコードを実行してください。"
      ],
      "metadata": {
        "id": "Q4WWq0mcpTB4"
      }
    },
    {
      "cell_type": "code",
      "source": [
        "!wget https://github.com/tendo-sms/python_beginner_2023/raw/main/files_6/meta.txt\n",
        "!wget https://github.com/tendo-sms/python_beginner_2023/raw/main/files_6/data1.csv\n",
        "!wget https://github.com/tendo-sms/python_beginner_2023/raw/main/files_6/data2.csv\n",
        "!wget https://github.com/tendo-sms/python_beginner_2023/raw/main/files_6/data3.CSV\n",
        "!wget https://github.com/tendo-sms/python_beginner_2023/raw/main/files_6/sample.json"
      ],
      "metadata": {
        "id": "KJ6eRUZNpudr"
      },
      "execution_count": null,
      "outputs": []
    },
    {
      "cell_type": "markdown",
      "source": [
        "# ARIM事業におけるRDEとPythonの関係\n",
        "\n",
        "<img src=\"https://github.com/tendo-sms/python_beginner_2023/raw/main/files_6/figure/rde.png\" width=\"70%\">\n",
        "\n",
        "ARIM事業の中で活用しているRDE(Research Data Express)は、材料研究のために研究現場で日々創出される材料データを効率的に収集するために、IoT データ転送機能、データ構造化機能、データ登録機能を備えたデータ収集・管理・提供システムのことです。\n",
        "\n",
        "データ構造化機能は、**Python**で開発が進められています。\n",
        "\n",
        "きっと、大きなシステムで動くプログラムはコーディングが複雑で難しいのでは？という印象を持たれたかもしれません。\n",
        "\n",
        "実は、基本的な構成は今回のセミナーを通して聴講いただいた方であれば、十分に理解できる内容となっています。\n",
        "\n",
        "それでは実際にコードで利用しているテクニックなどを一部ですがご紹介します。"
      ],
      "metadata": {
        "id": "lvypkSq6kSdC"
      }
    },
    {
      "cell_type": "markdown",
      "source": [
        "# アップロードされたファイルの読み込み\n",
        "\n",
        "気を付けないといけないポイントを順番に説明します。\n",
        "\n",
        "自分のためだけに使うプログラムを作成する場合、ユーザは自分ひとりなので意識することが少ないのですが、\n",
        "\n",
        "できるだけ汎用的に作っておくというのがコーディングのコツです。\n",
        "\n",
        "特に複数のユーザが利用するのであれば、その柔軟性の重要度は増します。\n",
        "\n",
        "まずは、自分だけが使う場合にファイルを読み込むのであれば次のようなシンプルなコードでもよいでしょう。\n",
        "\n"
      ],
      "metadata": {
        "id": "ebGYg7yX4vGm"
      }
    },
    {
      "cell_type": "code",
      "source": [
        "# 読み込むファイル名を指定  変更したい場合は書き直す\n",
        "input_file = \"meta.txt\"\n",
        "\n",
        "# ファイルを読み込む\n",
        "with open(input_file, \"r\") as f:\n",
        "    data = f.read()\n",
        "\n",
        "# データの表示\n",
        "print(data)"
      ],
      "metadata": {
        "id": "wkDabhUY-Nvu"
      },
      "execution_count": null,
      "outputs": []
    },
    {
      "cell_type": "markdown",
      "source": [
        "しかし、RDEに登録したいユーザは必ずしも決められた名前のファイルを一つだけアップロードするとは限りません。\n",
        "\n",
        "そのため、1つ以上のファイルも読み込めるようにしておく必要があります。\n",
        "\n",
        "次のようにして、そのディレクトリにある全てのファイルをループで処理してみます。\n"
      ],
      "metadata": {
        "id": "mTnoTrUn-U5u"
      }
    },
    {
      "cell_type": "code",
      "source": [
        "from pathlib import Path\n",
        "\n",
        "# 現在のディレクトリを取得\n",
        "cwd = Path.cwd()\n",
        "\n",
        "# globを使ってパターンをワイルドカードの*にして全てを対象にする\n",
        "for f in cwd.glob(\"*\"):\n",
        "    # ファイル名を表示\n",
        "    print(f.name)\n",
        "\n",
        "    # エラーが出る\n",
        "    with open(f, \"r\") as f:\n",
        "        print(f.read())\n"
      ],
      "metadata": {
        "id": "E7-Gbx5J-RNC"
      },
      "execution_count": null,
      "outputs": []
    },
    {
      "cell_type": "markdown",
      "source": [
        "エラーが出てしまいました。\n",
        "\n",
        "これは、globを使ってそのディレクトリにある全てを対象にしたため、ディレクトリも処理対象に含まれてしまったため発生しました。\n",
        "\n",
        "**open**文はファイルに対して行うものであり、ディレクトリを指定すると（この場合は/content/.config）エラーになってしまいます。\n",
        "\n",
        "では、次のように修正してcsvファイルだけを対象にしてみましょう。\n"
      ],
      "metadata": {
        "id": "OZi001PW_T6I"
      }
    },
    {
      "cell_type": "code",
      "source": [
        "from pathlib import Path\n",
        "\n",
        "# 現在のディレクトリを取得\n",
        "cwd = Path.cwd()\n",
        "\n",
        "for f in cwd.glob(\"*.csv\"):\n",
        "    # ファイル名を表示\n",
        "    print(f.name)\n",
        "\n",
        "    with open(f, \"r\") as f:\n",
        "        print(f.read())\n"
      ],
      "metadata": {
        "id": "chWyJAdTDBk4"
      },
      "execution_count": null,
      "outputs": []
    },
    {
      "cell_type": "markdown",
      "source": [
        "今度はちゃんと読み込めました！\n",
        "\n",
        "ですが、人によっては以下のように表示されていないでしょうか？\n",
        "\n",
        "```\n",
        "data2.csv\n",
        "C,D\n",
        "3,4\n",
        "5,6\n",
        "\n",
        "data1.csv\n",
        "A,B\n",
        "1,2\n",
        "3,4\n",
        "```\n",
        "\n",
        "これは**data2.csv**を先に読み込んで、後から**data1.csv**が読み込まれています。\n",
        "\n",
        "**glob**というのは、パターンに該当したものを見つけて列挙してくれる便利な命令ですが、その順番は決まっていません。\n",
        "\n",
        "読み込む順番を気にしないのであればこのままでもよいですが、読み込みの順番が決まっていないのは不便なことがあります。\n",
        "\n",
        "**print**文で表示させている例でも、表示順序が違うと戸惑ってしまうかもしれません。\n",
        "\n",
        "では順番も意識して修正してみましょう。"
      ],
      "metadata": {
        "id": "Z0NwsYdXiE-3"
      }
    },
    {
      "cell_type": "code",
      "source": [
        "from pathlib import Path\n",
        "\n",
        "# 現在のディレクトリを取得\n",
        "cwd = Path.cwd()\n",
        "\n",
        "# srotedを追加してソートする\n",
        "for f in sorted(cwd.glob(\"*.csv\")):\n",
        "    # ファイル名を表示\n",
        "    print(f.name)\n",
        "\n",
        "    with open(f, \"r\") as f:\n",
        "        print(f.read())\n"
      ],
      "metadata": {
        "id": "kH4do-PNiZRY"
      },
      "execution_count": null,
      "outputs": []
    },
    {
      "cell_type": "markdown",
      "source": [
        "\n",
        "今度は**data1.csv**を先に読み込めました!\n",
        "\n",
        "これで、汎用性を確保でき、ユーザの戸惑いもなくなるだろう…と思った方もいらっしゃるかもしれませんが、まだやれることがあります。\n",
        "\n",
        "このディレクトリにどのようなファイルがあるか確認してみましょう。"
      ],
      "metadata": {
        "id": "S99NbjUl9XxX"
      }
    },
    {
      "cell_type": "code",
      "source": [
        "# ディレクトリの一覧を確認\n",
        "!ls"
      ],
      "metadata": {
        "id": "vIzqN0YN9whN"
      },
      "execution_count": null,
      "outputs": []
    },
    {
      "cell_type": "markdown",
      "source": [
        "処理対象になっていなかった**data3.CSV**というものがありますね…。\n",
        "\n",
        "同じCSVファイルのはずなのに、なぜ読み込まれなかったのでしょうか。\n",
        "\n",
        "よく見るとファイルの拡張子は小文字（.csv）と大文字（.CSV）の違いがあるようです。\n",
        "\n",
        "画像でも.pngや.PNGとする場合があるように、皆さんにもこのようなファイルを見た経験がないでしょうか？\n",
        "\n",
        "では、これも考慮して修正してみましょう。"
      ],
      "metadata": {
        "id": "SWYNtdQw-YJy"
      }
    },
    {
      "cell_type": "code",
      "source": [
        "from pathlib import Path\n",
        "\n",
        "# 現在のディレクトリを取得\n",
        "cwd = Path.cwd()\n",
        "\n",
        "# .csvでも.CSVでも.Csvでも・・・処理対象にする\n",
        "for f in sorted(cwd.glob(\"*.[Cc][Ss][Vv]\")):\n",
        "    # ファイル名を表示\n",
        "    print(f.name)\n",
        "\n",
        "    with open(f, \"r\") as f:\n",
        "        print(f.read())\n"
      ],
      "metadata": {
        "id": "ysYojzCQAEfl"
      },
      "execution_count": null,
      "outputs": []
    },
    {
      "cell_type": "markdown",
      "source": [
        "やっとCSVファイルを3つとも読み込むことに成功しました！\n",
        "\n",
        "globの引数はパターンを記述しますが、実は正規表現ではなく**標準Unixパス拡張ルールに準拠**というのが採用されています。\n",
        "\n",
        "興味のある方は確認してみてください。\n",
        "\n",
        "さて、これで終わり…と思ったかもしれませんが、まだ想定される懸念点があります。\n",
        "\n",
        "ファイルのエンコーディングです。\n",
        "\n",
        "アップロードするエンコーディングを固定して設計（取り決め）してもよいですし、try文で頑張る方法もあります。\n",
        "\n",
        "ARIMでは、**chardet**パッケージを使って自動判定させています。\n",
        "\n",
        "**chardet**は標準パッケージではないので、pipでインストールしてください。\n"
      ],
      "metadata": {
        "id": "o9779eZpDxoW"
      }
    },
    {
      "cell_type": "code",
      "source": [
        "!pip install chardet"
      ],
      "metadata": {
        "id": "XfYq1h8_LLlY"
      },
      "execution_count": null,
      "outputs": []
    },
    {
      "cell_type": "code",
      "source": [
        "import chardet\n",
        "from pathlib import Path\n",
        "\n",
        "# 現在のディレクトリを取得\n",
        "cwd = Path.cwd()\n",
        "\n",
        "# .csvでも.CSVでも.Csvでも・・・処理対象にする\n",
        "for f in sorted(cwd.glob(\"*.[Cc][Ss][Vv]\")):\n",
        "    # エンコーディングを取得\n",
        "    enc = chardet.detect(open(f, \"rb\").read())[\"encoding\"]\n",
        "\n",
        "    # ファイル名とエンコーディングを表示\n",
        "    print(f\"{f.name}のファイルのエンコーディング: {enc}\")\n",
        "\n",
        "    with open(f, \"r\", encoding=enc) as f:\n",
        "        print(f.read())"
      ],
      "metadata": {
        "id": "nPwrQT21K8tX"
      },
      "execution_count": null,
      "outputs": []
    },
    {
      "cell_type": "markdown",
      "source": [
        "エンコーディングによる問題は、日本語が含まれる場合によく発生します。\n",
        "\n",
        "WindowsユーザがExcelで作成したcsvファイルは通常、Shift-JISと呼ばれる形式になります。\n",
        "\n",
        "なおここではShift-JISと呼んでいますが、実はこれは正確ではなく、Microsoftが勝手にWindows独自のcp932というものを作っています。\n",
        "\n",
        "Shift-JISをベースに、いくつか文字を追加したものなのでShift-JISとしてもほとんどは問題がありません。\n",
        "\n",
        "ですが、問題になるときもあるのでShift-JISと決めつけない方がよいときもありますのでご注意ください。\n"
      ],
      "metadata": {
        "id": "Vji9ZW9wfOd2"
      }
    },
    {
      "cell_type": "markdown",
      "source": [
        "# 日付・日時のパース（構文解析）\n",
        "\n",
        "RDEに登録される材料測定装置のデータファイルには、日付情報が含まれていることがあります。\n",
        "\n",
        "しかし、ご存じの通り日付の表現方法は様々なものがあります。\n",
        "\n",
        "もし表示形式がわかっていれば、**datetime**モジュールを使用することで文字列から日付のオブジェクトに変換することが簡単にできます。"
      ],
      "metadata": {
        "id": "uAP-N14Ngkx8"
      }
    },
    {
      "cell_type": "code",
      "source": [
        "from datetime import datetime\n",
        "\n",
        "# 年.月.日の場合\n",
        "date1 = \"2021.05.29\"\n",
        "print(f\"{date1} -> {datetime.strptime(date1, '%Y.%m.%d')}\")\n",
        "\n",
        "# 年/月/日の場合\n",
        "date2 = \"2021/05/29\"\n",
        "print(f\"{date2} -> {datetime.strptime(date2, '%Y/%m/%d')}\")\n"
      ],
      "metadata": {
        "id": "9lMXQ_WPjlIn"
      },
      "execution_count": null,
      "outputs": []
    },
    {
      "cell_type": "markdown",
      "source": [
        "文字列から日付のオブジェクトに変換することができました。\n",
        "\n",
        "ここで、%Yや%mというのはディレクティブと呼ばれ、それぞれに応じた意味があります。\n",
        "\n",
        "代表的な例をいくつかご紹介します。\n",
        "\n",
        "|ディレクティブ|意味|\n",
        "|----|----|\n",
        "|%Y|西暦 ( 4桁) の 10 進表記を表します。|\n",
        "|%m|0埋めした10進数で表記した月。|\n",
        "|%d|0埋めした10進数で表記した月中の日にち。|\n",
        "|%H|0埋めした10進数で表記した時 (24時間表記)。|\n",
        "|%M|0埋めした10進数で表記した分。|\n",
        "|%S|0埋めした10進数で表記した秒。|\n",
        "\n",
        "さて、**datetime.strptime**で指定する場合は、その文字列の形式がすでにわかっている場合にのみ有効な方法です。\n",
        "\n",
        "ではもし、形式がわからない場合はどうすればよいでしょうか。\n",
        "\n",
        "ここで活躍するのが、**dateutil**パッケージです。\n",
        "\n",
        "実際に上記の例で使ってみましょう。\n",
        "\n"
      ],
      "metadata": {
        "id": "wvjYyIWaksaz"
      }
    },
    {
      "cell_type": "code",
      "source": [
        "from dateutil import parser\n",
        "\n",
        "# 年.月.日の場合\n",
        "date1 = \"2021.05.29\"\n",
        "print(f\"{date1} -> {parser.parse(date1)}\")\n",
        "\n",
        "# 年/月/日の場合\n",
        "date2 = \"2021/05/29\"\n",
        "print(f\"{date2} -> {parser.parse(date2)}\")"
      ],
      "metadata": {
        "id": "dIghchnOlMgN"
      },
      "execution_count": null,
      "outputs": []
    },
    {
      "cell_type": "markdown",
      "source": [
        "うまく変換できましたね！\n",
        "\n",
        "それでは、どんなものでも変換可能なのでしょうか。\n",
        "\n",
        "次のように色んなパターンを確かめてみましょう。\n"
      ],
      "metadata": {
        "id": "wDDQ8rFclnIO"
      }
    },
    {
      "cell_type": "code",
      "source": [
        "from dateutil import parser\n",
        "\n",
        "date_lst = [\n",
        "    \"2021.05.29\",\n",
        "    \"2021-05-29T14:17:27Z\",\n",
        "    \"2021-05-29 15:17:27.133860\",\n",
        "    \"2021-05-29 16:17:27.133860+00:00\",\n",
        "    \"2021-05-29 17:17:27.133860+05:00\",\n",
        "    \"2021/05/29\",\n",
        "    \"2021/05/29T14:17:27Z\",\n",
        "    \"2021/05/29 15:17:27.133860\",\n",
        "    \"2021/05/29 16:17:27.133860+00:00\",\n",
        "    \"2021/05/29 17:17:27.133860+05:00\",\n",
        "    \"May 29 2022 12:17PM\",\n",
        "    \"May 29 2022 at 9:17PM\",\n",
        "    \"May 29, 2022, 19:17:27\",\n",
        "    \"Tue, 05-29-2022, 1:17AM\",\n",
        "    \"Tue, 29 May, 2022\",\n",
        "    \"Tuesday, 29th May, 2022 at 12:17p\",\n",
        "    \"2022/02/ 7 14:04:45\"\n",
        "]\n",
        "\n",
        "for d in date_lst:\n",
        "    print(f\"{d} -> {parser.parse(d)}\")"
      ],
      "metadata": {
        "id": "B2EYJltqmAdx"
      },
      "execution_count": null,
      "outputs": []
    },
    {
      "cell_type": "markdown",
      "source": [
        "ほとんどの場合、うまくいったようですが「\"2022/02/ 7 14:04:45\"」はエラーが出てしまったようです。\n",
        "\n",
        "何も問題なく読み取れる気がしますが、実はこの文字列は日の前に空白スペースがあります。\n",
        "\n",
        "それが原因で日付として認識できなかったようです。\n",
        "\n",
        "このような場合は次のように細工してから実行してみましょう。\n",
        "\n",
        "\n"
      ],
      "metadata": {
        "id": "Qwzwq7jnm_0K"
      }
    },
    {
      "cell_type": "code",
      "source": [
        "from dateutil import parser\n",
        "\n",
        "date = \"2022/02/ 7 14:04:45\"\n",
        "\n",
        "# 文字列を修正　2022/02/ 7 14:04:45　-> 2022/02/07 14:04:45\n",
        "new_date = date.replace(\"/ \", \"/0\")\n",
        "print(f\"{date} -> {new_date} -> {parser.parse(new_date)}\")\n"
      ],
      "metadata": {
        "id": "WhRgeZa2nbfS"
      },
      "execution_count": null,
      "outputs": []
    },
    {
      "cell_type": "markdown",
      "source": [
        "今度はうまく変換できたようです。\n",
        "\n",
        "このように、ARIMにおける構造化コードでは基本的には**dateutil**に頼っていますがイレギュラーなものだけは別途加工してから利用しています。\n"
      ],
      "metadata": {
        "id": "oHWcyTm0n6nS"
      }
    },
    {
      "cell_type": "markdown",
      "source": [
        "# JSONファイルの入出力\n",
        "\n",
        "辞書の取り扱いの中で、JSONファイルについて少し触れていたかと思います。\n",
        "\n",
        "JSONはその扱いやすさから設定ファイルやWeb上でのデータのやり取りなどに利用されています。\n",
        "\n",
        "RDEでも、JSONは利用されていてその構文は「キー:値」というPythonの辞書のような形式です。\n",
        "\n",
        "サンプルのファイル「sample.json」の中身は以下のように記述されています。\n",
        "\n",
        "```\n",
        "{\n",
        "  \"A\":1,\n",
        "  \"B\":2\n",
        "}\n",
        "```\n",
        "\n",
        "これらのJSONファイルを読み込むには、カッコ{}を自分で解釈しながら変数に入れる必要はありません。\n",
        "\n",
        "Pythonが標準で提供している**json**モジュールを使うと簡単に読むことができます。"
      ],
      "metadata": {
        "id": "sMJIvSFB4Pxc"
      }
    },
    {
      "cell_type": "code",
      "source": [
        "import json\n",
        "\n",
        "# 読み込むファイル名を指定\n",
        "input_file = \"sample.json\"\n",
        "\n",
        "# ファイルを読み込む\n",
        "with open(input_file, \"r\") as f:\n",
        "    data = json.load(f)\n",
        "\n",
        "# データの表示\n",
        "print(data)\n",
        "print(type(data))"
      ],
      "metadata": {
        "id": "9iYZVNCr7L8p"
      },
      "execution_count": null,
      "outputs": []
    },
    {
      "cell_type": "markdown",
      "source": [
        "**json.load**という関数を呼び出すだけで、Pythonの辞書型として解釈されて読み込むことができました。\n",
        "\n",
        "では、この**data**に何か追加して保存してみましょう。\n"
      ],
      "metadata": {
        "id": "1ALINKxx70pl"
      }
    },
    {
      "cell_type": "code",
      "source": [
        "# 辞書にデータを追加\n",
        "data[\"あいうえお\"] = \"かきくけこ\"\n",
        "\n",
        "# JSONで出力\n",
        "with open(\"new_sample.json\", \"w\") as f:\n",
        "    json.dump(data, f)"
      ],
      "metadata": {
        "id": "UIJLKoK29Jo5"
      },
      "execution_count": null,
      "outputs": []
    },
    {
      "cell_type": "markdown",
      "source": [
        "ではどのような出力データになったのか、左のメニューからnew_sample.jsonを確認してみましょう。\n",
        "\n",
        "\n",
        "`{\"A\": 1, \"B\": 2, \"\\u3042\\u3044\\u3046\\u3048\\u304a\": \"\\u304b\\u304d\\u304f\\u3051\\u3053\"}`\n",
        "\n",
        "\n",
        "JSONではありますが、何かおかしな点があると思います。\n",
        "\n",
        "横長であり、日本語がよくわからない形式になっています。\n",
        "\n",
        "横長は人が見づらいだけで、JSONとしては間違ってはいません。\n",
        "\n",
        "日本語は\\u〇〇〇というように変換されてしまっています。\n",
        "\n",
        "**json**モジュールでは、不十分なのでしょうか。\n",
        "\n",
        "いえ、これらを解消するためには2つオプションを追加すれば大丈夫です。\n"
      ],
      "metadata": {
        "id": "eJe2s6Jg-Lpf"
      }
    },
    {
      "cell_type": "code",
      "source": [
        "# 辞書にデータを追加\n",
        "data[\"あいうえお\"] = \"かきくけこ\"\n",
        "\n",
        "# JSONで出力 オプションindentとensure_asciiを追加\n",
        "with open(\"new_sample.json\", \"w\") as f:\n",
        "    json.dump(data, f, indent=4, ensure_ascii=False)"
      ],
      "metadata": {
        "id": "rZfLOXlg9wGR"
      },
      "execution_count": null,
      "outputs": []
    },
    {
      "cell_type": "markdown",
      "source": [
        "今度は、いかがでしょうか？\n",
        "\n",
        "次のように書き込まれていることが確認できたと思います。\n",
        "\n",
        "```\n",
        "{\n",
        "    \"A\": 1,\n",
        "    \"B\": 2,\n",
        "    \"あいうえお\": \"かきくけこ\"\n",
        "}\n",
        "```\n",
        "\n",
        "このように、各種ライブラリには様々なオプションがあり、何も指定しない場合は予期せぬ動作になったりします。\n",
        "\n",
        "ですが、ライブラリが提供しているオプションによって解決する場合が多いです。\n",
        "\n",
        "まずは、ライブラリの使い方を調べることをお勧めいたします。\n"
      ],
      "metadata": {
        "id": "VuKJgMVY_W8J"
      }
    },
    {
      "cell_type": "markdown",
      "source": [
        "# 特定行の見つけ方（inとstartswith）\n",
        "\n",
        "テキストデータから、特定の行を見つけて処理をしたいことがあります。\n",
        "\n",
        "RDEではメタデータを抽出する際に必要です。\n",
        "\n",
        "ここでは、どうやって特定の行を探してきて処理するのか確かめてみましょう。\n",
        "\n",
        "まずは、先ほども使用した**meta.txt**を表示させてみます。"
      ],
      "metadata": {
        "id": "Zmop9TaEA2G4"
      }
    },
    {
      "cell_type": "code",
      "source": [
        "# シェルコマンドでテキストの中身を表示\n",
        "!cat meta.txt"
      ],
      "metadata": {
        "id": "IiZgdLU8cwMg"
      },
      "execution_count": null,
      "outputs": []
    },
    {
      "cell_type": "markdown",
      "source": [
        "このファイルには、「項目名:値」という形式でデータが保存されています。\n",
        "\n",
        "では、**\"説明\"**という項目を抽出してみたいと思います。\n",
        "\n",
        "まずは、その文字列が含まれているかどうかを**in**を使って判定してみようと思います。"
      ],
      "metadata": {
        "id": "5_JrBs1rdF-D"
      }
    },
    {
      "cell_type": "code",
      "source": [
        "# 読み込むファイル名を指定  変更したい場合は書き直す\n",
        "input_file = \"meta.txt\"\n",
        "\n",
        "# ファイルを読み込む\n",
        "with open(input_file, \"r\") as f:\n",
        "    data = f.readlines()\n",
        "\n",
        "# ループで行ごとに調査する\n",
        "for d in data:\n",
        "    # もし説明という文字が入っていたら表示する\n",
        "    if \"説明\" in d:\n",
        "        print(d.rstrip())"
      ],
      "metadata": {
        "id": "wjKjRZuHcB51"
      },
      "execution_count": null,
      "outputs": []
    },
    {
      "cell_type": "markdown",
      "source": [
        "メモの項目も抽出されてしまったようです。\n",
        "\n",
        "原因は、値の方に**説明**という文字が入っているからです。\n",
        "\n",
        "「ガイダンスで**説明**するもの」\n",
        "\n",
        "**in**は、その文字列（この場合は行全体）で含まれているかをチェックしています。\n",
        "\n",
        "当然、値の方であっても該当文字列があればヒットしてしまいます。\n",
        "\n",
        "では、項目はかならず左側にあると考えることができそうなので、**startswith**を使ってみます。\n"
      ],
      "metadata": {
        "id": "MzztUNinecji"
      }
    },
    {
      "cell_type": "code",
      "source": [
        "# 読み込むファイル名を指定  変更したい場合は書き直す\n",
        "input_file = \"meta.txt\"\n",
        "\n",
        "# ファイルを読み込む\n",
        "with open(input_file, \"r\") as f:\n",
        "    data = f.readlines()\n",
        "\n",
        "# ループで行ごとに調査する\n",
        "for d in data:\n",
        "    # もし説明という文字から開始していたら表示する\n",
        "    if d.startswith(\"説明\"):\n",
        "        print(d.rstrip())"
      ],
      "metadata": {
        "id": "0iHo3pcke_Qx"
      },
      "execution_count": null,
      "outputs": []
    },
    {
      "cell_type": "markdown",
      "source": [
        "今度はうまく抽出できたようです！\n",
        "\n",
        "このように、ある程度そのデータの特徴をつかんでから適切な処理を考えないとうまくいかないケースが出てきます。\n",
        "\n",
        "**in**を使えば文字列を抽出できると安易に考えがちですが、十分でないことも多いです。\n",
        "\n",
        "ARIMでも、どんな内容のデータが送られてくるかわからない、ということを念頭に置いて開発を進めています。\n",
        "\n",
        "とはいえ、実際に遭遇してからでないと気が付かないことも多いです。\n",
        "\n",
        "あとから「そういうデータが含まれることもあるのか～・・・」と、修正しながら日々精進しています。\n"
      ],
      "metadata": {
        "id": "QFog6_oxfJP_"
      }
    },
    {
      "cell_type": "code",
      "source": [],
      "metadata": {
        "id": "noXMPky1UnEv"
      },
      "execution_count": null,
      "outputs": []
    },
    {
      "cell_type": "markdown",
      "source": [
        "# おわりに\n",
        "\n",
        "いかがでしたでしょうか？\n",
        "\n",
        "RDEのように、複数のユーザの利用が想定されるプログラムでは、色々なケースに対応できる工夫が必要になってきます。\n",
        "\n",
        "しかし、その内容を紐解けば大部分は皆様が今回習得した基本的な記述で構築されていることがわかっていただけたのではないでしょうか。\n",
        "\n",
        "もちろん数値計算などの難しいこともありますが、そこはPythonのライブラリの豊富さに頼ってしまえば、難しいアルゴリズムを作ることなく数行で目的を実現することも可能です。\n",
        "\n",
        "今回の講義は、ここまでとなります。このあと、最後の講義としてクラスについてご紹介します。以下のURLから、資料をご参照ください。\n",
        "\n",
        "https://colab.research.google.com/drive/1sWuHBJ91hvNdufc73_J3yTebRbeXx3Lr?usp=sharing"
      ],
      "metadata": {
        "id": "2uEnks_gz_F7"
      }
    }
  ]
}